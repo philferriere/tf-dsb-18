{
 "cells": [
  {
   "cell_type": "markdown",
   "metadata": {},
   "source": [
    "# DSB 2018 Dataset Prep"
   ]
  },
  {
   "cell_type": "code",
   "execution_count": 1,
   "metadata": {
    "collapsed": true
   },
   "outputs": [],
   "source": [
    "\"\"\"\n",
    "dataset_prep.ipynb\n",
    "\n",
    "Dataset preparation.\n",
    "\n",
    "Written by Phil Ferriere\n",
    "\n",
    "Licensed under the MIT License (see LICENSE for details)\n",
    "\"\"\"\n",
    "from __future__ import absolute_import\n",
    "from __future__ import division\n",
    "from __future__ import print_function\n",
    "\n",
    "import sys\n",
    "import time\n",
    "import numpy as np\n",
    "import matplotlib.pyplot as plt\n",
    "\n",
    "import visualize\n",
    "from dataset import DSB18Dataset, _DEFAULT_DS_NUCLEI_TRAIN_OPTIONS"
   ]
  },
  {
   "cell_type": "code",
   "execution_count": 2,
   "metadata": {
    "collapsed": true
   },
   "outputs": [],
   "source": [
    "# TODO: You MUST set dataset_root to the correct path on your machine!\n",
    "if sys.platform.startswith(\"win\"):\n",
    "    dataset_root = \"E:/datasets/dsb18\"\n",
    "else:\n",
    "    dataset_root = '/media/EDrive/datasets/dsb18'"
   ]
  },
  {
   "cell_type": "markdown",
   "metadata": {},
   "source": [
    "## Load dataset (using default options)\n",
    "Load the DSB 2018 dataset and create the additional data necessary to train our models. Note that this is done automatically but only **once**, the first time the object is created. After this, the dataset object will always use the additional information it has generated."
   ]
  },
  {
   "cell_type": "code",
   "execution_count": 4,
   "metadata": {
    "scrolled": true
   },
   "outputs": [
    {
     "name": "stdout",
     "output_type": "stream",
     "text": [
      "Preparation took  0h 0m 0s for 536 images.\n"
     ]
    }
   ],
   "source": [
    "options = _DEFAULT_DS_NUCLEI_TRAIN_OPTIONS.copy()\n",
    "options['sampling'] = 'normal'\n",
    "start = time.time()\n",
    "ds = DSB18Dataset(ds_root = dataset_root, options = options)\n",
    "end = time.time()\n",
    "m, s = divmod(end - start, 60)\n",
    "h, m = divmod(m, 60)\n",
    "print('Preparation took {:2.0f}h{:2.0f}m{:2.0f}s for {} images.'.format(h, m, s, ds.train_size))"
   ]
  },
  {
   "cell_type": "code",
   "execution_count": null,
   "metadata": {
    "collapsed": true
   },
   "outputs": [],
   "source": [
    "# Display dataset configuration\n",
    "ds.print_config()"
   ]
  }
 ],
 "metadata": {
  "kernelspec": {
   "display_name": "Python 3",
   "language": "python",
   "name": "python3"
  },
  "language_info": {
   "codemirror_mode": {
    "name": "ipython",
    "version": 3
   },
   "file_extension": ".py",
   "mimetype": "text/x-python",
   "name": "python",
   "nbconvert_exporter": "python",
   "pygments_lexer": "ipython3",
   "version": "3.6.2"
  }
 },
 "nbformat": 4,
 "nbformat_minor": 2
}
